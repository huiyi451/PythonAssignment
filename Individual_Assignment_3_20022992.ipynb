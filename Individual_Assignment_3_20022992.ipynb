{
 "cells": [
  {
   "cell_type": "markdown",
   "id": "4b851c6c-ae11-421e-9e88-9680841c208a",
   "metadata": {},
   "source": [
    "# Individual Assignment 3"
   ]
  },
  {
   "cell_type": "markdown",
   "id": "af4f1017-d3e1-448b-9549-4c5a2d2eea34",
   "metadata": {},
   "source": [
    "## Name: Yon Hui Yi Student ID: 20022992"
   ]
  },
  {
   "cell_type": "markdown",
   "id": "1879cf7b-5f18-45e8-b4fe-7a104f0cc691",
   "metadata": {},
   "source": [
    "## Answer"
   ]
  },
  {
   "cell_type": "markdown",
   "id": "45b40fd5-42f2-48f2-8c74-ad8552a22baa",
   "metadata": {},
   "source": [
    "## 1. Data Import & Module Usage"
   ]
  },
  {
   "cell_type": "code",
   "execution_count": 44,
   "id": "8e8bbb9c-258e-478a-bbb9-959998675791",
   "metadata": {
    "tags": []
   },
   "outputs": [],
   "source": [
    "# Instruction 1\n",
    "# import necessary modules \n",
    "\n",
    "import pandas as pd\n",
    "import numpy as np\n",
    "import random\n",
    "from decimal import Decimal"
   ]
  },
  {
   "cell_type": "code",
   "execution_count": 45,
   "id": "bf81cb42-260a-46e0-a80b-3fd2d4a6f585",
   "metadata": {
    "tags": []
   },
   "outputs": [],
   "source": [
    "# Instruction 2\n",
    "# import provided excel file with Pandas module\n",
    "\n",
    "df = pd.read_excel('Furniture.xlsx')"
   ]
  },
  {
   "cell_type": "markdown",
   "id": "90829fb9-63e0-40a9-99fd-1901743903f9",
   "metadata": {},
   "source": [
    "## 2. Data Cleaning & Preprocessing"
   ]
  },
  {
   "cell_type": "code",
   "execution_count": 46,
   "id": "e71be274-8a65-4f1c-b221-1041b32c4f9b",
   "metadata": {
    "tags": []
   },
   "outputs": [
    {
     "name": "stdout",
     "output_type": "stream",
     "text": [
      "Missing Values: \n",
      "Year                   8\n",
      "Batch_ID               8\n",
      "Furniture_Name         5\n",
      "Production             8\n",
      "Labor_Hours            7\n",
      "Laborhours_Perunit    17\n",
      "dtype: int64\n"
     ]
    }
   ],
   "source": [
    "# Instruction 1\n",
    "# read dataset into pandas Dataframe and check for missing values\n",
    "\n",
    "missing_values = df.isnull().sum()\n",
    "print(f'Missing Values: \\n{missing_values}')\n"
   ]
  },
  {
   "cell_type": "code",
   "execution_count": 47,
   "id": "e6706296-c744-488f-883e-c53c716786e7",
   "metadata": {
    "tags": []
   },
   "outputs": [
    {
     "name": "stdout",
     "output_type": "stream",
     "text": [
      "Missing Values: \n",
      "Year                  0\n",
      "Batch_ID              0\n",
      "Furniture_Name        0\n",
      "Production            0\n",
      "Labor_Hours           0\n",
      "Laborhours_Perunit    0\n",
      "dtype: int64\n"
     ]
    }
   ],
   "source": [
    "# Instruction 2\n",
    "# remove missing values from dataset\n",
    "\n",
    "df = df.dropna()\n",
    "\n",
    "# recheck whether there is still missing value\n",
    "missing_values = df.isnull().sum()\n",
    "print(f'Missing Values: \\n{missing_values}')"
   ]
  },
  {
   "cell_type": "markdown",
   "id": "5a21d170-661c-4a82-b295-aa15173f6c0d",
   "metadata": {},
   "source": [
    "## 3. Data Manipulation & Output Formatting"
   ]
  },
  {
   "cell_type": "code",
   "execution_count": 48,
   "id": "242340a3-c7c2-4cd5-86b2-f0eca4474ebf",
   "metadata": {
    "tags": []
   },
   "outputs": [
    {
     "name": "stdout",
     "output_type": "stream",
     "text": [
      "0     0.399829\n",
      "1     0.987503\n",
      "2     0.329685\n",
      "3     0.333303\n",
      "4     0.314531\n",
      "5     0.680641\n",
      "7     0.441517\n",
      "9     0.851614\n",
      "10      0.6009\n",
      "11    0.498772\n",
      "12    0.584937\n",
      "13    0.436903\n",
      "14    3.275862\n",
      "15    0.854122\n",
      "16     0.02666\n",
      "17    0.486048\n",
      "22     1.14278\n",
      "23     0.51185\n",
      "24    0.591468\n",
      "25    0.455972\n",
      "26    0.463201\n",
      "27    0.839446\n",
      "28    0.517772\n",
      "29    0.347548\n",
      "31    0.561337\n",
      "32    0.400602\n",
      "33    0.532742\n",
      "34    0.436749\n",
      "37    0.242122\n",
      "38    0.436257\n",
      "39    0.217133\n",
      "40    0.489013\n",
      "41    0.589968\n",
      "42     1.11444\n",
      "43    0.388855\n",
      "44    0.245795\n",
      "45    0.124052\n",
      "46    0.403263\n",
      "47    0.568609\n",
      "48    0.175338\n",
      "49    0.133549\n",
      "Name: Laborhours_Perunit, dtype: object\n"
     ]
    }
   ],
   "source": [
    "# Instruction 1 \n",
    "# Compute the 'Laborhours_Perunit' using 'Labor_Hours' and 'Production' columns\n",
    "\n",
    "df['Laborhours_Perunit'] = df['Labor_Hours'] / df['Production']\n",
    "print(df['Laborhours_Perunit'])"
   ]
  },
  {
   "cell_type": "code",
   "execution_count": 49,
   "id": "9c296261-eade-4131-9b6a-3b04c406fffb",
   "metadata": {
    "tags": []
   },
   "outputs": [],
   "source": [
    "# Instruction 2\n",
    "# Save the records where 'Laborhours_Perunit' is greater than 1 to a text file\n",
    "\n",
    "more_laborhours = df[df['Laborhours_Perunit'] > 1]\n",
    "more_laborhours.to_csv('MoreLaborHours_Records.txt', index=False)"
   ]
  },
  {
   "cell_type": "markdown",
   "id": "6e39d1af-b2d6-4bdc-bc1b-e12f00672be6",
   "metadata": {},
   "source": [
    "## 4. Data Exploration & Presentation"
   ]
  },
  {
   "cell_type": "code",
   "execution_count": 50,
   "id": "5f61e539-47bd-4aaf-baff-31506343b118",
   "metadata": {
    "tags": []
   },
   "outputs": [
    {
     "data": {
      "text/html": [
       "<div>\n",
       "<style scoped>\n",
       "    .dataframe tbody tr th:only-of-type {\n",
       "        vertical-align: middle;\n",
       "    }\n",
       "\n",
       "    .dataframe tbody tr th {\n",
       "        vertical-align: top;\n",
       "    }\n",
       "\n",
       "    .dataframe thead th {\n",
       "        text-align: right;\n",
       "    }\n",
       "</style>\n",
       "<table border=\"1\" class=\"dataframe\">\n",
       "  <thead>\n",
       "    <tr style=\"text-align: right;\">\n",
       "      <th></th>\n",
       "      <th>Year</th>\n",
       "      <th>Batch_ID</th>\n",
       "      <th>Furniture_Name</th>\n",
       "      <th>Production</th>\n",
       "      <th>Labor_Hours</th>\n",
       "      <th>Laborhours_Perunit</th>\n",
       "    </tr>\n",
       "  </thead>\n",
       "  <tbody>\n",
       "    <tr>\n",
       "      <th>0</th>\n",
       "      <td>2013.0</td>\n",
       "      <td>103381.0</td>\n",
       "      <td>Tacoa Highwall Table</td>\n",
       "      <td>56004.0</td>\n",
       "      <td>22392</td>\n",
       "      <td>0.399829</td>\n",
       "    </tr>\n",
       "    <tr>\n",
       "      <th>1</th>\n",
       "      <td>2013.0</td>\n",
       "      <td>103404.0</td>\n",
       "      <td>Reid School Table</td>\n",
       "      <td>28807.0</td>\n",
       "      <td>28447</td>\n",
       "      <td>0.987503</td>\n",
       "    </tr>\n",
       "    <tr>\n",
       "      <th>2</th>\n",
       "      <td>2013.0</td>\n",
       "      <td>100759.0</td>\n",
       "      <td>North River Table</td>\n",
       "      <td>1440115.0</td>\n",
       "      <td>474784</td>\n",
       "      <td>0.329685</td>\n",
       "    </tr>\n",
       "    <tr>\n",
       "      <th>3</th>\n",
       "      <td>2013.0</td>\n",
       "      <td>103246.0</td>\n",
       "      <td>Bear Creek Chair</td>\n",
       "      <td>87587.0</td>\n",
       "      <td>29193</td>\n",
       "      <td>0.333303</td>\n",
       "    </tr>\n",
       "    <tr>\n",
       "      <th>4</th>\n",
       "      <td>2013.0</td>\n",
       "      <td>103451.0</td>\n",
       "      <td>Knight Chair</td>\n",
       "      <td>147499.0</td>\n",
       "      <td>46393</td>\n",
       "      <td>0.314531</td>\n",
       "    </tr>\n",
       "    <tr>\n",
       "      <th>5</th>\n",
       "      <td>2013.0</td>\n",
       "      <td>103433.0</td>\n",
       "      <td>Crane Central Chair</td>\n",
       "      <td>69339.0</td>\n",
       "      <td>47195</td>\n",
       "      <td>0.680641</td>\n",
       "    </tr>\n",
       "    <tr>\n",
       "      <th>7</th>\n",
       "      <td>2013.0</td>\n",
       "      <td>100851.0</td>\n",
       "      <td>Oak Grove Table</td>\n",
       "      <td>2269014.0</td>\n",
       "      <td>1001809</td>\n",
       "      <td>0.441517</td>\n",
       "    </tr>\n",
       "    <tr>\n",
       "      <th>9</th>\n",
       "      <td>2013.0</td>\n",
       "      <td>102901.0</td>\n",
       "      <td>Shoal Creek Table</td>\n",
       "      <td>1453024.0</td>\n",
       "      <td>1237415</td>\n",
       "      <td>0.851614</td>\n",
       "    </tr>\n",
       "    <tr>\n",
       "      <th>10</th>\n",
       "      <td>2013.0</td>\n",
       "      <td>103180.0</td>\n",
       "      <td>Sloan Mountain Chair</td>\n",
       "      <td>327780.0</td>\n",
       "      <td>196963</td>\n",
       "      <td>0.6009</td>\n",
       "    </tr>\n",
       "    <tr>\n",
       "      <th>11</th>\n",
       "      <td>2013.0</td>\n",
       "      <td>103182.0</td>\n",
       "      <td>Fishtrap Table</td>\n",
       "      <td>175058.0</td>\n",
       "      <td>87314</td>\n",
       "      <td>0.498772</td>\n",
       "    </tr>\n",
       "  </tbody>\n",
       "</table>\n",
       "</div>"
      ],
      "text/plain": [
       "      Year  Batch_ID        Furniture_Name  Production Labor_Hours  \\\n",
       "0   2013.0  103381.0  Tacoa Highwall Table     56004.0       22392   \n",
       "1   2013.0  103404.0     Reid School Table     28807.0       28447   \n",
       "2   2013.0  100759.0     North River Table   1440115.0      474784   \n",
       "3   2013.0  103246.0      Bear Creek Chair     87587.0       29193   \n",
       "4   2013.0  103451.0          Knight Chair    147499.0       46393   \n",
       "5   2013.0  103433.0   Crane Central Chair     69339.0       47195   \n",
       "7   2013.0  100851.0       Oak Grove Table   2269014.0     1001809   \n",
       "9   2013.0  102901.0     Shoal Creek Table   1453024.0     1237415   \n",
       "10  2013.0  103180.0  Sloan Mountain Chair    327780.0      196963   \n",
       "11  2013.0  103182.0        Fishtrap Table    175058.0       87314   \n",
       "\n",
       "   Laborhours_Perunit  \n",
       "0            0.399829  \n",
       "1            0.987503  \n",
       "2            0.329685  \n",
       "3            0.333303  \n",
       "4            0.314531  \n",
       "5            0.680641  \n",
       "7            0.441517  \n",
       "9            0.851614  \n",
       "10             0.6009  \n",
       "11           0.498772  "
      ]
     },
     "execution_count": 50,
     "metadata": {},
     "output_type": "execute_result"
    }
   ],
   "source": [
    "# Instruction 1\n",
    "# display the first 10 rows of dataset in tabular format\n",
    "\n",
    "df.head(10)"
   ]
  },
  {
   "cell_type": "code",
   "execution_count": 51,
   "id": "e3dabfc5-03a1-458a-9c00-f33c616ad24e",
   "metadata": {
    "tags": []
   },
   "outputs": [
    {
     "name": "stdout",
     "output_type": "stream",
     "text": [
      "                             Mean    Median Standard Deviation\n",
      "Production          679373.731707  147499.0     1486550.545505\n",
      "Labor_Hours         263318.536585   87314.0      496584.474461\n",
      "Laborhours_Perunit       0.561773  0.463201           0.500235\n"
     ]
    }
   ],
   "source": [
    "# Instruction 2\n",
    "# Compute and show mean, median and standard deviation for\n",
    "# 'Production', 'Labor Hours', and 'Laborhours Perunit' columns\n",
    "\n",
    "columns = ['Production', 'Labor_Hours', 'Laborhours_Perunit']\n",
    "\n",
    "statistics = {\n",
    "    'Mean': df[columns].mean(),\n",
    "    'Median': df[columns].median(),\n",
    "    'Standard Deviation': df[columns].std()\n",
    "}\n",
    "\n",
    "# Creating a DataFrame to display the statistics in a tabular format\n",
    "statistics_df = pd.DataFrame(statistics)\n",
    "\n",
    "\n",
    "print(statistics_df)"
   ]
  },
  {
   "cell_type": "code",
   "execution_count": 52,
   "id": "903ac69f-66d5-4f78-b816-a0702049e762",
   "metadata": {
    "tags": []
   },
   "outputs": [
    {
     "name": "stdout",
     "output_type": "stream",
     "text": [
      "Maximum value of Production: 7602722\n",
      "Minimum value of Labor Hours: 220\n"
     ]
    }
   ],
   "source": [
    "# Instruction 3\n",
    "# Find and print the maximum value of 'Production' and the minimum value of 'Labor Hours'\n",
    "\n",
    "max_production = df['Production'].max()\n",
    "min_laborhours = df['Labor_Hours'].min()\n",
    "\n",
    "print(f'Maximum value of Production: {max_production:.0f}')\n",
    "print(f'Minimum value of Labor Hours: {min_laborhours}')"
   ]
  },
  {
   "cell_type": "markdown",
   "id": "66d2dfb5-9093-4985-87d8-b3a63376f0b2",
   "metadata": {},
   "source": [
    "## 5. Utilization of Dictionaries, Lists, and Tuples"
   ]
  },
  {
   "cell_type": "code",
   "execution_count": 74,
   "id": "fc2bc8e0-f9e3-4398-804c-bfc5e226c438",
   "metadata": {
    "tags": []
   },
   "outputs": [
    {
     "name": "stdout",
     "output_type": "stream",
     "text": [
      "First 10 rows organized by column in lists: \n",
      "\n",
      "Year: [2013.0, 2013.0, 2013.0, 2013.0, 2013.0, 2013.0, 2013.0, 2013.0, 2013.0, 2013.0]\n",
      "Batch_ID: [103381.0, 103404.0, 100759.0, 103246.0, 103451.0, 103433.0, 100851.0, 102901.0, 103180.0, 103182.0]\n",
      "Furniture_Name: ['Tacoa Highwall Table', 'Reid School Table', 'North River Table', 'Bear Creek Chair', 'Knight Chair', 'Crane Central Chair', 'Oak Grove Table', 'Shoal Creek Table', 'Sloan Mountain Chair', 'Fishtrap Table']\n",
      "Production: [56004.0, 28807.0, 1440115.0, 87587.0, 147499.0, 69339.0, 2269014.0, 1453024.0, 327780.0, 175058.0]\n",
      "Labor_Hours: [22392, 28447, 474784, 29193, 46393, 47195, 1001809, 1237415, 196963, 87314]\n",
      "Laborhours_Perunit: [0.39982858367259483, 0.9875030374561738, 0.3296847821180947, 0.333302887414799, 0.3145309459725151, 0.6806414860323916, 0.44151732867227794, 0.8516136003259409, 0.6008999938983465, 0.49877183562019445]\n",
      "\n",
      "First 10 rows organized by columns in dictionaries: \n",
      " {'Year': [2013.0, 2013.0, 2013.0, 2013.0, 2013.0, 2013.0, 2013.0, 2013.0, 2013.0, 2013.0], 'Batch_ID': [103381.0, 103404.0, 100759.0, 103246.0, 103451.0, 103433.0, 100851.0, 102901.0, 103180.0, 103182.0], 'Furniture_Name': ['Tacoa Highwall Table', 'Reid School Table', 'North River Table', 'Bear Creek Chair', 'Knight Chair', 'Crane Central Chair', 'Oak Grove Table', 'Shoal Creek Table', 'Sloan Mountain Chair', 'Fishtrap Table'], 'Production': [56004.0, 28807.0, 1440115.0, 87587.0, 147499.0, 69339.0, 2269014.0, 1453024.0, 327780.0, 175058.0], 'Labor_Hours': [22392, 28447, 474784, 29193, 46393, 47195, 1001809, 1237415, 196963, 87314], 'Laborhours_Perunit': [0.39982858367259483, 0.9875030374561738, 0.3296847821180947, 0.333302887414799, 0.3145309459725151, 0.6806414860323916, 0.44151732867227794, 0.8516136003259409, 0.6008999938983465, 0.49877183562019445]}\n",
      "\n",
      "First 10 rows organized by columns in tuples: \n",
      " [('Year', [2013.0, 2013.0, 2013.0, 2013.0, 2013.0, 2013.0, 2013.0, 2013.0, 2013.0, 2013.0]), ('Batch_ID', [103381.0, 103404.0, 100759.0, 103246.0, 103451.0, 103433.0, 100851.0, 102901.0, 103180.0, 103182.0]), ('Furniture_Name', ['Tacoa Highwall Table', 'Reid School Table', 'North River Table', 'Bear Creek Chair', 'Knight Chair', 'Crane Central Chair', 'Oak Grove Table', 'Shoal Creek Table', 'Sloan Mountain Chair', 'Fishtrap Table']), ('Production', [56004.0, 28807.0, 1440115.0, 87587.0, 147499.0, 69339.0, 2269014.0, 1453024.0, 327780.0, 175058.0]), ('Labor_Hours', [22392, 28447, 474784, 29193, 46393, 47195, 1001809, 1237415, 196963, 87314]), ('Laborhours_Perunit', [0.39982858367259483, 0.9875030374561738, 0.3296847821180947, 0.333302887414799, 0.3145309459725151, 0.6806414860323916, 0.44151732867227794, 0.8516136003259409, 0.6008999938983465, 0.49877183562019445])]\n"
     ]
    }
   ],
   "source": [
    "# Instruction 1\n",
    "# Store the first 10 rows of the dataset in a dictionary, organized by respective\n",
    "# columns for easy reference\n",
    "\n",
    "# Instruction 2\n",
    "# display information using dictionaries, lists, and tuples\n",
    "\n",
    "# Lists\n",
    "first_10_rows_dict = {} # create empty dictionary for first 10 rows (got key and value)\n",
    "for col in df.columns: # repeat each column (col) for the whole data columns\n",
    "    first_10_rows_dict[col] = df[col].head(10).tolist() \n",
    "    # save the first 10 rows of each columns into a list in the dictionary\n",
    "print('First 10 rows organized by column in lists: \\n')\n",
    "for key, value in first_10_rows_dict.items():\n",
    "    print(f'{key}: {value}') # key = column, value = first 10 rows data\n",
    "    \n",
    "\n",
    "# Dictionaries\n",
    "first_10_rows_dict = {}\n",
    "for col in df.columns:\n",
    "    first_10_rows_dict[col] = df[col].head(10).tolist()\n",
    "\n",
    "print('\\nFirst 10 rows organized by columns in dictionaries: \\n', first_10_rows_dict)\n",
    "\n",
    "# Tuples\n",
    "first_10_rows_tuples = []\n",
    "for col in df.columns:\n",
    "    first_10_rows_tuples.append((col, df[col].head(10).tolist()))\n",
    "\n",
    "print('\\nFirst 10 rows organized by columns in tuples: \\n', first_10_rows_tuples)\n",
    "\n"
   ]
  },
  {
   "cell_type": "code",
   "execution_count": null,
   "id": "3fb12195-1f4c-4229-b005-e9af1f920224",
   "metadata": {},
   "outputs": [],
   "source": []
  }
 ],
 "metadata": {
  "kernelspec": {
   "display_name": "Python 3 (ipykernel)",
   "language": "python",
   "name": "python3"
  },
  "language_info": {
   "codemirror_mode": {
    "name": "ipython",
    "version": 3
   },
   "file_extension": ".py",
   "mimetype": "text/x-python",
   "name": "python",
   "nbconvert_exporter": "python",
   "pygments_lexer": "ipython3",
   "version": "3.11.5"
  }
 },
 "nbformat": 4,
 "nbformat_minor": 5
}
