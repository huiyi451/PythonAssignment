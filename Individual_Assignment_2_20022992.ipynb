{
 "cells": [
  {
   "cell_type": "markdown",
   "id": "a641afb5",
   "metadata": {},
   "source": [
    "# Individual Assignment 2"
   ]
  },
  {
   "cell_type": "markdown",
   "id": "10c10277",
   "metadata": {},
   "source": [
    "## Name: Yon Hui Yi Student ID: 20022992"
   ]
  },
  {
   "cell_type": "markdown",
   "id": "b7ad99ee",
   "metadata": {},
   "source": [
    "## Answer"
   ]
  },
  {
   "cell_type": "code",
   "execution_count": 20,
   "id": "809677c8",
   "metadata": {},
   "outputs": [
    {
     "name": "stdout",
     "output_type": "stream",
     "text": [
      "What is the employee name? Jack\n",
      "How many years of experience? 3\n",
      "What is the performance rating (on scale of 1 to 5)? 3\n"
     ]
    }
   ],
   "source": [
    "# Instruction 1\n",
    "# input of the employee details\n",
    "\n",
    "employees_name = str(input(\"What is the employee name? \"))\n",
    "years_of_experience = int(input(\"How many years of experience? \"))\n",
    "performance_rating = int(input(\"What is the performance rating (on scale of 1 to 5)? \"))"
   ]
  },
  {
   "cell_type": "code",
   "execution_count": 21,
   "id": "452ccaa4",
   "metadata": {},
   "outputs": [],
   "source": [
    "# Instruction 2\n",
    "# define the calculation of base salary based on the years of experience\n",
    "\n",
    "def base_salary_formula(years_of_experience):\n",
    "    if years_of_experience <= 2:\n",
    "        return 40000\n",
    "    elif 2 < years_of_experience <= 5:\n",
    "        return 60000\n",
    "    elif 5 < years_of_experience <= 7:\n",
    "        return 80000\n",
    "    elif 7 < years_of_experience <= 10:\n",
    "        return 100000"
   ]
  },
  {
   "cell_type": "code",
   "execution_count": 22,
   "id": "a470a3cf",
   "metadata": {},
   "outputs": [],
   "source": [
    "# Instruction 3\n",
    "# define the calculation of performance bonus based on scale of performance rating\n",
    "\n",
    "def performance_bonus_formula(performance_rating):\n",
    "    if performance_rating == 1:\n",
    "        return 0\n",
    "    elif performance_rating == 2:\n",
    "        return 0.02\n",
    "    elif performance_rating == 3:\n",
    "        return 0.05\n",
    "    elif performance_rating == 4:\n",
    "        return 0.07\n",
    "    elif performance_rating == 5:\n",
    "        return 0.10"
   ]
  },
  {
   "cell_type": "code",
   "execution_count": 23,
   "id": "c799cb62",
   "metadata": {},
   "outputs": [],
   "source": [
    "# calculation of performance bonus based on base salary and bonus percentage \n",
    "\n",
    "base_salary = base_salary_formula(years_of_experience)\n",
    "bonus_percentage = performance_bonus_formula(performance_rating)\n",
    "performance_bonus = base_salary * bonus_percentage\n",
    "\n",
    "# calculation of total salary\n",
    "\n",
    "total_salary = base_salary + performance_bonus"
   ]
  },
  {
   "cell_type": "code",
   "execution_count": 24,
   "id": "c88d2412",
   "metadata": {},
   "outputs": [
    {
     "name": "stdout",
     "output_type": "stream",
     "text": [
      "Employee Name: Jack\n",
      "Base Salary: $60000.00\n",
      "Performance Bonus: $3000.00\n",
      "Total Salary: $63000.00\n"
     ]
    }
   ],
   "source": [
    "# Instruction 4\n",
    "# display the employee and salary details \n",
    "\n",
    "print (f\"Employee Name: {employees_name}\")\n",
    "print (f\"Base Salary: ${base_salary:.2f}\")\n",
    "print (f\"Performance Bonus: ${performance_bonus:.2f}\")\n",
    "print (f\"Total Salary: ${total_salary:.2f}\")"
   ]
  },
  {
   "cell_type": "code",
   "execution_count": 27,
   "id": "6ca9a001",
   "metadata": {},
   "outputs": [
    {
     "name": "stdout",
     "output_type": "stream",
     "text": [
      "It's a regret that you are ineligible for the promotion.\n"
     ]
    }
   ],
   "source": [
    "# Instruction 5\n",
    "# implement the promotion system\n",
    "\n",
    "if years_of_experience > 5 and performance_rating >= 4:\n",
    "    promotion_total_salary = total_salary * 1.10\n",
    "    print (\"Congrats! You are eligible for the promotion with 10% raise in salary.\")\n",
    "    print (f\"Salary After Promotion: ${promotion_total_salary:.2f}\")\n",
    "else: \n",
    "    print (\"It's a regret that you are ineligible for the promotion.\")"
   ]
  }
 ],
 "metadata": {
  "kernelspec": {
   "display_name": "Python 3 (ipykernel)",
   "language": "python",
   "name": "python3"
  },
  "language_info": {
   "codemirror_mode": {
    "name": "ipython",
    "version": 3
   },
   "file_extension": ".py",
   "mimetype": "text/x-python",
   "name": "python",
   "nbconvert_exporter": "python",
   "pygments_lexer": "ipython3",
   "version": "3.11.5"
  }
 },
 "nbformat": 4,
 "nbformat_minor": 5
}
