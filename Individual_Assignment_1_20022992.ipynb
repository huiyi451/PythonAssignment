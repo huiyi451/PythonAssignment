{
 "cells": [
  {
   "cell_type": "markdown",
   "id": "c89bc592",
   "metadata": {},
   "source": [
    "# Individual Assignment 1"
   ]
  },
  {
   "cell_type": "markdown",
   "id": "ec279b59",
   "metadata": {},
   "source": [
    "###  Name: Yon Hui Yi      Student ID: 20022992"
   ]
  },
  {
   "cell_type": "markdown",
   "id": "359454dc",
   "metadata": {},
   "source": [
    "## Answers"
   ]
  },
  {
   "cell_type": "markdown",
   "id": "535bb518",
   "metadata": {},
   "source": [
    "### Instruction 1"
   ]
  },
  {
   "cell_type": "code",
   "execution_count": 17,
   "id": "90f76908",
   "metadata": {},
   "outputs": [
    {
     "name": "stdout",
     "output_type": "stream",
     "text": [
      "Menu\n",
      "Burger: $10.00\n",
      "Pizza: $12.00\n",
      "Pasta: $8.00\n",
      "Salad: $6.00\n",
      "Soda: $2.00\n"
     ]
    }
   ],
   "source": [
    "# Define the menu with food items and their prices\n",
    "menu = {\n",
    "    \"Burger\": 10.00,\n",
    "    \"Pizza\": 12.00,\n",
    "    \"Pasta\": 8.00,\n",
    "    \"Salad\": 6.00,\n",
    "    \"Soda\": 2.00,\n",
    "}\n",
    "\n",
    "# Initialize an empty dictionary to store the customer's order\n",
    "order = {}\n",
    "\n",
    "# Display the menu to the user, set the item and price in menu, price is shown in 2 decimals \n",
    "print(\"Menu\")\n",
    "for item, price in menu.items():\n",
    "    print(f\"{item}: ${price:.2f}\")"
   ]
  },
  {
   "cell_type": "markdown",
   "id": "3dad462a",
   "metadata": {},
   "source": [
    "### Instruction 2"
   ]
  },
  {
   "cell_type": "code",
   "execution_count": 18,
   "id": "5d1ab4de",
   "metadata": {},
   "outputs": [
    {
     "name": "stdout",
     "output_type": "stream",
     "text": [
      "Enter an item to order (or 'done' to finish): burger\n",
      "How many Burger(s) would you like to order? 2\n",
      "Enter an item to order (or 'done' to finish): done\n"
     ]
    }
   ],
   "source": [
    "# Take the user's order\n",
    "\n",
    "while True:\n",
    "    item = input(\"Enter an item to order (or 'done' to finish): \").capitalize() #input item\n",
    "    if item == 'Done': #if input done\n",
    "        break\n",
    "    if item in menu: #input quantity\n",
    "        quantity = int(input(f\"How many {item}(s) would you like to order? \"))\n",
    "        if item in order:\n",
    "            order[item] += quantity #if item reorder the quantity will add in this formula\n",
    "        else:\n",
    "            order[item] = quantity #if item is not reorder quantity will calculate in this formula\n",
    "    else:\n",
    "        print(\"Item not found in the menu. Please choose from the menu.\") #when input item not found in menu\n"
   ]
  },
  {
   "cell_type": "markdown",
   "id": "fb921c82",
   "metadata": {},
   "source": [
    "### Instruction 3"
   ]
  },
  {
   "cell_type": "code",
   "execution_count": 19,
   "id": "781a3fd5",
   "metadata": {},
   "outputs": [
    {
     "name": "stdout",
     "output_type": "stream",
     "text": [
      "Subtotal: $20.00\n"
     ]
    }
   ],
   "source": [
    "# Calculate the subtotal\n",
    "subtotal = sum(menu[item] * quantity for item, quantity in order.items())\n",
    "\n",
    "# Display the subtotal\n",
    "print(f\"Subtotal: ${subtotal:.2f}\")"
   ]
  },
  {
   "cell_type": "markdown",
   "id": "55cb4959",
   "metadata": {},
   "source": [
    "### Instruction 4"
   ]
  },
  {
   "cell_type": "code",
   "execution_count": 20,
   "id": "ff9a4f67",
   "metadata": {},
   "outputs": [
    {
     "name": "stdout",
     "output_type": "stream",
     "text": [
      "Enter the tax rate (in percentage): 20\n",
      "Enter the tip amount (in percentage): 20\n"
     ]
    }
   ],
   "source": [
    "# Ask the user for tax rate and tip amount\n",
    "tax_rate = float(input(\"Enter the tax rate (in percentage): \")) #input tax rate\n",
    "tip_percentage = float(input(\"Enter the tip amount (in percentage): \")) #input tip percentage"
   ]
  },
  {
   "cell_type": "markdown",
   "id": "a960e0e3",
   "metadata": {},
   "source": [
    "### Instruction 5"
   ]
  },
  {
   "cell_type": "code",
   "execution_count": 21,
   "id": "bea8092c",
   "metadata": {},
   "outputs": [
    {
     "name": "stdout",
     "output_type": "stream",
     "text": [
      "Subtotal: $20.00\n",
      "Tax: $4.00\n",
      "Tip: $4.00\n",
      "Total Bill: $28.00\n"
     ]
    }
   ],
   "source": [
    "# Calculate tax and tip amounts\n",
    "tax_amount = (tax_rate / 100) * subtotal\n",
    "tip_amount = (tip_percentage / 100) * subtotal\n",
    "\n",
    "# Calculate the total bill\n",
    "total_bill = subtotal + tax_amount + tip_amount\n",
    "\n",
    "# Display the total bill\n",
    "print(f\"Subtotal: ${subtotal:.2f}\")\n",
    "print(f\"Tax: ${tax_amount:.2f}\")\n",
    "print(f\"Tip: ${tip_amount:.2f}\")\n",
    "print(f\"Total Bill: ${total_bill:.2f}\")"
   ]
  }
 ],
 "metadata": {
  "kernelspec": {
   "display_name": "Python 3 (ipykernel)",
   "language": "python",
   "name": "python3"
  },
  "language_info": {
   "codemirror_mode": {
    "name": "ipython",
    "version": 3
   },
   "file_extension": ".py",
   "mimetype": "text/x-python",
   "name": "python",
   "nbconvert_exporter": "python",
   "pygments_lexer": "ipython3",
   "version": "3.11.5"
  }
 },
 "nbformat": 4,
 "nbformat_minor": 5
}
